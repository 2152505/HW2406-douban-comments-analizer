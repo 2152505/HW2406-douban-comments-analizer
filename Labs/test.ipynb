{
 "cells": [
  {
   "cell_type": "code",
   "execution_count": null,
   "id": "80d03377-d297-4e66-924e-9f7c4ad8381b",
   "metadata": {},
   "outputs": [],
   "source": [
    "import time\n",
    "import torch\n",
    "\n",
    "# 测试gpu计算耗时\n",
    "A = torch.ones(5000, 5000).to('cuda')\n",
    "B = torch.ones(5000, 5000).to('cuda')\n",
    "startTime2 = time.time()\n",
    "for i in range(100):\n",
    "    C = torch.matmul(A, B)\n",
    "endTime2 = time.time()\n",
    "print('gpu计算总时长:', round((endTime2 - startTime2) * 1000, 2), 'ms')\n",
    "\n",
    "# 测试cpu计算耗时\n",
    "A = torch.ones(5000, 5000)\n",
    "B = torch.ones(5000, 5000)\n",
    "startTime1 = time.time()\n",
    "for i in range(100):\n",
    "    C = torch.matmul(A, B)\n",
    "endTime1 = time.time()\n",
    "print('cpu计算总时长:', round((endTime1 - startTime1) * 1000, 2), 'ms')\n"
   ]
  },
  {
   "cell_type": "code",
   "execution_count": null,
   "id": "e34b0851-cf41-4f91-9165-63795cab0757",
   "metadata": {},
   "outputs": [],
   "source": []
  }
 ],
 "metadata": {
  "kernelspec": {
   "display_name": "Python 3",
   "language": "python",
   "name": "python3"
  },
  "language_info": {
   "codemirror_mode": {
    "name": "ipython",
    "version": 3
   },
   "file_extension": ".py",
   "mimetype": "text/x-python",
   "name": "python",
   "nbconvert_exporter": "python",
   "pygments_lexer": "ipython3",
   "version": "3.9.18"
  }
 },
 "nbformat": 4,
 "nbformat_minor": 5
}
